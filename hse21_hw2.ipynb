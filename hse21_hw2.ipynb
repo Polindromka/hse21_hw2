{
  "nbformat": 4,
  "nbformat_minor": 0,
  "metadata": {
    "colab": {
      "name": "hse21_hw2.ipynb",
      "provenance": [],
      "toc_visible": true,
      "authorship_tag": "ABX9TyPScfzPLnqpqSh8+fubL7es",
      "include_colab_link": true
    },
    "kernelspec": {
      "name": "python3",
      "display_name": "Python 3"
    },
    "language_info": {
      "name": "python"
    }
  },
  "cells": [
    {
      "cell_type": "markdown",
      "metadata": {
        "id": "view-in-github",
        "colab_type": "text"
      },
      "source": [
        "<a href=\"https://colab.research.google.com/github/Polindromka/hse21_hw2/blob/main/hse21_hw2.ipynb\" target=\"_parent\"><img src=\"https://colab.research.google.com/assets/colab-badge.svg\" alt=\"Open In Colab\"/></a>"
      ]
    },
    {
      "cell_type": "markdown",
      "source": [
        "# Подготовка файлов и программ"
      ],
      "metadata": {
        "id": "Be5KEM7ozCNX"
      }
    },
    {
      "cell_type": "markdown",
      "source": [
        "## Скачиваем собранный геном бактерии (все скаффолды)"
      ],
      "metadata": {
        "id": "g_5nZKz_zKav"
      }
    },
    {
      "cell_type": "code",
      "execution_count": 8,
      "metadata": {
        "colab": {
          "base_uri": "https://localhost:8080/"
        },
        "id": "4tyaqiqny9Ou",
        "outputId": "9f7b2d8b-0338-4c2b-bdf0-63858837fe9d"
      },
      "outputs": [
        {
          "output_type": "stream",
          "name": "stdout",
          "text": [
            "--2021-12-14 18:58:23--  https://raw.githubusercontent.com/Polindromka/hse21_hw2/master/data/scaffolds.fasta\n",
            "Resolving raw.githubusercontent.com (raw.githubusercontent.com)... 185.199.108.133, 185.199.109.133, 185.199.110.133, ...\n",
            "Connecting to raw.githubusercontent.com (raw.githubusercontent.com)|185.199.108.133|:443... connected.\n",
            "HTTP request sent, awaiting response... 404 Not Found\n",
            "2021-12-14 18:58:23 ERROR 404: Not Found.\n",
            "\n"
          ]
        }
      ],
      "source": [
        "!wget https://raw.githubusercontent.com/Polindromka/hse21_hw2/master/data/scaffolds.fasta"
      ]
    },
    {
      "cell_type": "code",
      "source": [
        ""
      ],
      "metadata": {
        "id": "NSbHPGLEzSX8"
      },
      "execution_count": null,
      "outputs": []
    }
  ]
}