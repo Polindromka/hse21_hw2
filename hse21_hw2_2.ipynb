{
  "nbformat": 4,
  "nbformat_minor": 0,
  "metadata": {
    "colab": {
      "name": "hse21_hw2_2.ipynb",
      "provenance": [],
      "authorship_tag": "ABX9TyPo7lK/lAVAM5f/LauwRj96",
      "include_colab_link": true
    },
    "kernelspec": {
      "name": "python3",
      "display_name": "Python 3"
    },
    "language_info": {
      "name": "python"
    }
  },
  "cells": [
    {
      "cell_type": "markdown",
      "metadata": {
        "id": "view-in-github",
        "colab_type": "text"
      },
      "source": [
        "<a href=\"https://colab.research.google.com/github/Polindromka/hse21_hw2/blob/main/hse21_hw2_2.ipynb\" target=\"_parent\"><img src=\"https://colab.research.google.com/assets/colab-badge.svg\" alt=\"Open In Colab\"/></a>"
      ]
    },
    {
      "cell_type": "markdown",
      "source": [
        "# Скачиваем данные и устанавливаем программы"
      ],
      "metadata": {
        "id": "D3lVMGre_U2F"
      }
    },
    {
      "cell_type": "code",
      "execution_count": 336,
      "metadata": {
        "colab": {
          "base_uri": "https://localhost:8080/"
        },
        "id": "YhjVoO07-qWX",
        "outputId": "e5732965-2f0a-471d-e07e-7d79fda158d2"
      },
      "outputs": [
        {
          "output_type": "stream",
          "name": "stdout",
          "text": [
            "--2021-12-16 13:03:53--  https://raw.githubusercontent.com/Polindromka/hse21_hw2/main/data/gms2.lst\n",
            "Resolving raw.githubusercontent.com (raw.githubusercontent.com)... 185.199.108.133, 185.199.109.133, 185.199.110.133, ...\n",
            "Connecting to raw.githubusercontent.com (raw.githubusercontent.com)|185.199.108.133|:443... connected.\n",
            "HTTP request sent, awaiting response... 200 OK\n",
            "Length: 219889 (215K) [text/plain]\n",
            "Saving to: ‘gms2.lst.1’\n",
            "\n",
            "\rgms2.lst.1            0%[                    ]       0  --.-KB/s               \rgms2.lst.1          100%[===================>] 214.74K  --.-KB/s    in 0.004s  \n",
            "\n",
            "2021-12-16 13:03:53 (57.7 MB/s) - ‘gms2.lst.1’ saved [219889/219889]\n",
            "\n"
          ]
        }
      ],
      "source": [
        "!wget https://raw.githubusercontent.com/Polindromka/hse21_hw2/main/data/gms2.lst"
      ]
    },
    {
      "cell_type": "code",
      "source": [
        "!wget https://raw.githubusercontent.com/Polindromka/hse21_hw2/main/data/scaffolds.fasta"
      ],
      "metadata": {
        "colab": {
          "base_uri": "https://localhost:8080/"
        },
        "id": "sdHt-KUY_aDb",
        "outputId": "7cb2063e-b981-4bc2-e5da-7614c8978432"
      },
      "execution_count": 337,
      "outputs": [
        {
          "output_type": "stream",
          "name": "stdout",
          "text": [
            "--2021-12-16 13:03:53--  https://raw.githubusercontent.com/Polindromka/hse21_hw2/main/data/scaffolds.fasta\n",
            "Resolving raw.githubusercontent.com (raw.githubusercontent.com)... 185.199.108.133, 185.199.109.133, 185.199.110.133, ...\n",
            "Connecting to raw.githubusercontent.com (raw.githubusercontent.com)|185.199.108.133|:443... connected.\n",
            "HTTP request sent, awaiting response... 200 OK\n",
            "Length: 3924486 (3.7M) [text/plain]\n",
            "Saving to: ‘scaffolds.fasta.1’\n",
            "\n",
            "scaffolds.fasta.1   100%[===================>]   3.74M  --.-KB/s    in 0.02s   \n",
            "\n",
            "2021-12-16 13:03:53 (160 MB/s) - ‘scaffolds.fasta.1’ saved [3924486/3924486]\n",
            "\n"
          ]
        }
      ]
    },
    {
      "cell_type": "code",
      "source": [
        "!wget https://raw.githubusercontent.com/Polindromka/hse21_hw2/main/data/proteins.fasta"
      ],
      "metadata": {
        "colab": {
          "base_uri": "https://localhost:8080/"
        },
        "id": "VOT5kEUF_fYP",
        "outputId": "6cf2a9ce-8352-4034-d27a-c0e6970ce0c9"
      },
      "execution_count": 338,
      "outputs": [
        {
          "output_type": "stream",
          "name": "stdout",
          "text": [
            "--2021-12-16 13:03:54--  https://raw.githubusercontent.com/Polindromka/hse21_hw2/main/data/proteins.fasta\n",
            "Resolving raw.githubusercontent.com (raw.githubusercontent.com)... 185.199.108.133, 185.199.109.133, 185.199.110.133, ...\n",
            "Connecting to raw.githubusercontent.com (raw.githubusercontent.com)|185.199.108.133|:443... connected.\n",
            "HTTP request sent, awaiting response... 200 OK\n",
            "Length: 1426212 (1.4M) [text/plain]\n",
            "Saving to: ‘proteins.fasta.1’\n",
            "\n",
            "proteins.fasta.1    100%[===================>]   1.36M  --.-KB/s    in 0.02s   \n",
            "\n",
            "2021-12-16 13:03:54 (56.8 MB/s) - ‘proteins.fasta.1’ saved [1426212/1426212]\n",
            "\n"
          ]
        }
      ]
    },
    {
      "cell_type": "code",
      "source": [
        "!wget https://raw.githubusercontent.com/Polindromka/hse21_hw2/main/data/scaffolds.hits_from_MIL_1.txt"
      ],
      "metadata": {
        "colab": {
          "base_uri": "https://localhost:8080/"
        },
        "id": "Tkl1EKz9_jUi",
        "outputId": "274620e7-f4b0-42d8-84c6-aa81bac2914b"
      },
      "execution_count": 339,
      "outputs": [
        {
          "output_type": "stream",
          "name": "stdout",
          "text": [
            "--2021-12-16 13:03:54--  https://raw.githubusercontent.com/Polindromka/hse21_hw2/main/data/scaffolds.hits_from_MIL_1.txt\n",
            "Resolving raw.githubusercontent.com (raw.githubusercontent.com)... 185.199.110.133, 185.199.109.133, 185.199.111.133, ...\n",
            "Connecting to raw.githubusercontent.com (raw.githubusercontent.com)|185.199.110.133|:443... connected.\n",
            "HTTP request sent, awaiting response... 200 OK\n",
            "Length: 834114 (815K) [text/plain]\n",
            "Saving to: ‘scaffolds.hits_from_MIL_1.txt.1’\n",
            "\n",
            "\r          scaffolds   0%[                    ]       0  --.-KB/s               \rscaffolds.hits_from 100%[===================>] 814.56K  --.-KB/s    in 0.02s   \n",
            "\n",
            "2021-12-16 13:03:54 (48.2 MB/s) - ‘scaffolds.hits_from_MIL_1.txt.1’ saved [834114/834114]\n",
            "\n"
          ]
        }
      ]
    },
    {
      "cell_type": "code",
      "source": [
        "!wget https://raw.githubusercontent.com/Polindromka/hse21_hw2/main/data/scaffolds.hits_from_SwissProt.txt"
      ],
      "metadata": {
        "colab": {
          "base_uri": "https://localhost:8080/"
        },
        "id": "7hXl9c4W_n5j",
        "outputId": "78a58618-9e0a-48c7-8eb1-acd6efdc362a"
      },
      "execution_count": 340,
      "outputs": [
        {
          "output_type": "stream",
          "name": "stdout",
          "text": [
            "--2021-12-16 13:03:54--  https://raw.githubusercontent.com/Polindromka/hse21_hw2/main/data/scaffolds.hits_from_SwissProt.txt\n",
            "Resolving raw.githubusercontent.com (raw.githubusercontent.com)... 185.199.109.133, 185.199.111.133, 185.199.108.133, ...\n",
            "Connecting to raw.githubusercontent.com (raw.githubusercontent.com)|185.199.109.133|:443... connected.\n",
            "HTTP request sent, awaiting response... 200 OK\n",
            "Length: 65073 (64K) [text/plain]\n",
            "Saving to: ‘scaffolds.hits_from_SwissProt.txt.1’\n",
            "\n",
            "\r          scaffolds   0%[                    ]       0  --.-KB/s               \rscaffolds.hits_from 100%[===================>]  63.55K  --.-KB/s    in 0.001s  \n",
            "\n",
            "2021-12-16 13:03:54 (77.5 MB/s) - ‘scaffolds.hits_from_SwissProt.txt.1’ saved [65073/65073]\n",
            "\n"
          ]
        }
      ]
    },
    {
      "cell_type": "markdown",
      "source": [
        "## Скачиваем геном близкородственной бактерии T.oleivorans"
      ],
      "metadata": {
        "id": "N8g8kcQZ_u4A"
      }
    },
    {
      "cell_type": "markdown",
      "source": [
        "Геном, последовательности генов (нт) и белков (протеом) для бактерии Thalassolituus oleivorans MIL-1 https://www.ncbi.nlm.nih.gov/nuccore/HF680312"
      ],
      "metadata": {
        "id": "VFIAbyLv_y1P"
      }
    },
    {
      "cell_type": "code",
      "source": [
        "!sh -c \"$(curl -fsSL ftp://ftp.ncbi.nlm.nih.gov/entrez/entrezdirect/install-edirect.sh)\""
      ],
      "metadata": {
        "colab": {
          "base_uri": "https://localhost:8080/"
        },
        "id": "1aK1nu-k_r4h",
        "outputId": "b513b176-bb98-4df8-b3ec-ea7deef59a3d"
      },
      "execution_count": 341,
      "outputs": [
        {
          "output_type": "stream",
          "name": "stdout",
          "text": [
            "\n",
            "Entrez Direct has been successfully downloaded and installed.\n",
            "\n",
            "\n",
            "To activate EDirect for this terminal session, please execute the following:\n",
            "\n",
            "export PATH=${PATH}:${HOME}/edirect\n",
            "\n"
          ]
        }
      ]
    },
    {
      "cell_type": "code",
      "source": [
        "!$HOME/edirect/efetch -db nuccore -id HF680312 -format gb  >  T_oleivorans_MIL_1.gbk"
      ],
      "metadata": {
        "id": "XQ_Pj7u1_2ei"
      },
      "execution_count": 342,
      "outputs": []
    },
    {
      "cell_type": "code",
      "source": [
        "!pip install biopython"
      ],
      "metadata": {
        "colab": {
          "base_uri": "https://localhost:8080/"
        },
        "id": "FiMA4Emy_7Sq",
        "outputId": "f4187d3f-934d-49d3-9a91-c076ae648ffc"
      },
      "execution_count": 343,
      "outputs": [
        {
          "output_type": "stream",
          "name": "stdout",
          "text": [
            "Requirement already satisfied: biopython in /usr/local/lib/python3.7/dist-packages (1.79)\n",
            "Requirement already satisfied: numpy in /usr/local/lib/python3.7/dist-packages (from biopython) (1.19.5)\n"
          ]
        }
      ]
    },
    {
      "cell_type": "markdown",
      "source": [
        "# Аннотация генома"
      ],
      "metadata": {
        "id": "8qpI83JSAF2N"
      }
    },
    {
      "cell_type": "code",
      "source": [
        "!head -n 20 gms2.lst"
      ],
      "metadata": {
        "colab": {
          "base_uri": "https://localhost:8080/"
        },
        "id": "BsTikIPsAFeR",
        "outputId": "26ce0226-dc9f-4e39-d966-ec91bb5d2f2b"
      },
      "execution_count": 344,
      "outputs": [
        {
          "output_type": "stream",
          "name": "stdout",
          "text": [
            "# GeneMark.hmm-2 LST format\n",
            "# GeneMark.hmm-2 prokaryotic version: 1.25_lic\n",
            "# File with sequence: scaffolds.fasta\n",
            "# File with native parameters: GMS2.mod\n",
            "# Native species name and build: unspecified GeneMarkS-2-1.14_1.25_lic\n",
            "# File with MetaGeneMark parameters: /content/gms2_linux_64/mgm_11.mod\n",
            "# translation table: 11\n",
            "# output date start: Tue Dec 14 20:01:33 2021\n",
            "\n",
            "# sequence-region 1 3832177\n",
            "SequenceID: scaffold1_len3832152_cov231\n",
            "     1   +   <2    94      93 native\n",
            "     2   +    575    1744    1170 native GAGGTC 5 1\n",
            "     3   +    1747    3315    1569 native AGGGTG 6 1\n",
            "     4   +    3357    3980     624 native GGGGAA 6 1\n",
            "     5   +    3983    6388    2406 native CCGGTG 8 1\n",
            "     6   +    6459    8009    1551 native GCGGAG 6 1\n",
            "     7   +    8015    8788     774 native ACGGTG 10 1\n",
            "     8   +    8800    9243     444 native GAGGCT 5 1\n",
            "     9   +    9243    9902     660 native ACTGAT 6 1\n"
          ]
        }
      ]
    },
    {
      "cell_type": "code",
      "source": [
        "from Bio import SeqIO\n",
        "\n",
        "records = []\n",
        "\n",
        "for record in SeqIO.parse(\"/content/scaffolds.fasta\", \"fasta\"):\n",
        "  records.append(record)"
      ],
      "metadata": {
        "id": "EhULft4V_-ex"
      },
      "execution_count": 345,
      "outputs": []
    },
    {
      "cell_type": "code",
      "source": [
        "for record in records:\n",
        "  record.annotations['molecule_type'] = 'DNA'\n",
        "  record.format(\"genbank\")"
      ],
      "metadata": {
        "colab": {
          "base_uri": "https://localhost:8080/"
        },
        "id": "PFGTT2pmFaDo",
        "outputId": "8d2d78f9-20e6-43ec-d6cc-3179ca8123fb"
      },
      "execution_count": 346,
      "outputs": [
        {
          "output_type": "stream",
          "name": "stderr",
          "text": [
            "/usr/local/lib/python3.7/dist-packages/Bio/SeqIO/InsdcIO.py:730: BiopythonWarning: Increasing length of locus line to allow long name. This will result in fields that are not in usual positions.\n",
            "  BiopythonWarning,\n"
          ]
        }
      ]
    },
    {
      "cell_type": "code",
      "source": [
        "SeqIO.write(records, \"GENOME.gbk\", \"genbank\")"
      ],
      "metadata": {
        "colab": {
          "base_uri": "https://localhost:8080/"
        },
        "id": "px8FQq1OFiaC",
        "outputId": "14ca608c-947d-4089-b6ab-3fc9bec0acb4"
      },
      "execution_count": 347,
      "outputs": [
        {
          "output_type": "stream",
          "name": "stderr",
          "text": [
            "/usr/local/lib/python3.7/dist-packages/Bio/SeqIO/InsdcIO.py:730: BiopythonWarning: Increasing length of locus line to allow long name. This will result in fields that are not in usual positions.\n",
            "  BiopythonWarning,\n"
          ]
        },
        {
          "output_type": "execute_result",
          "data": {
            "text/plain": [
              "71"
            ]
          },
          "metadata": {},
          "execution_count": 347
        }
      ]
    },
    {
      "cell_type": "markdown",
      "source": [
        "## Добавляем координаты генов"
      ],
      "metadata": {
        "id": "wsKo95nypYX0"
      }
    },
    {
      "cell_type": "code",
      "source": [
        "from pprint import pprint\n",
        "from Bio.SeqFeature import SeqFeature, FeatureLocation"
      ],
      "metadata": {
        "id": "7NuO67ixqAOL"
      },
      "execution_count": 348,
      "outputs": []
    },
    {
      "cell_type": "code",
      "source": [
        "import pandas as pd \n",
        "col = ['locus', 'strand', 'start', 'end', 'len','type', 'sequence', '0', '1']\n",
        "gms = pd.read_csv(\"/content/gms2.lst\", sep=\" \\s*\", names=col, skiprows=10, engine='python')\n",
        "gms.loc[1]"
      ],
      "metadata": {
        "colab": {
          "base_uri": "https://localhost:8080/"
        },
        "id": "ZqmtxHqPIOfe",
        "outputId": "8eb4799f-065e-48ec-c5ad-ce353affa1ba"
      },
      "execution_count": 349,
      "outputs": [
        {
          "output_type": "execute_result",
          "data": {
            "text/plain": [
              "locus            1\n",
              "strand           +\n",
              "start           <2\n",
              "end             94\n",
              "len             93\n",
              "type        native\n",
              "sequence      None\n",
              "0             None\n",
              "1              NaN\n",
              "Name: 1, dtype: object"
            ]
          },
          "metadata": {},
          "execution_count": 349
        }
      ]
    },
    {
      "cell_type": "code",
      "source": [
        "import re\n",
        "non_decimal = re.compile(r'[^\\d.]+')\n",
        "item = -1\n",
        "for i, sc in gms.iterrows():\n",
        "  if sc['locus'].isdecimal():\n",
        "    sc_f1 = SeqFeature(FeatureLocation(int(non_decimal.sub('', sc['start'])), int(non_decimal.sub('', sc['end'])), strand=-1 if sc['strand']=='-' else 1), type=\"CDS\")\n",
        "    sc_f1.qualifiers['locus_tag'] = sc['locus'] \n",
        "    records[item].features.append(sc_f1)\n",
        "  else:\n",
        "    if sc['locus']=='SequenceID:':\n",
        "      item+=1"
      ],
      "metadata": {
        "id": "K7qRnzMDsp0Q"
      },
      "execution_count": 350,
      "outputs": []
    },
    {
      "cell_type": "code",
      "source": [
        "SeqIO.write(records, \"GENOME.gbk\", \"genbank\")"
      ],
      "metadata": {
        "colab": {
          "base_uri": "https://localhost:8080/"
        },
        "id": "k6tHJHkSp4hc",
        "outputId": "65cba125-9728-458d-dc70-edded07bfa32"
      },
      "execution_count": 351,
      "outputs": [
        {
          "output_type": "stream",
          "name": "stderr",
          "text": [
            "/usr/local/lib/python3.7/dist-packages/Bio/SeqIO/InsdcIO.py:730: BiopythonWarning: Increasing length of locus line to allow long name. This will result in fields that are not in usual positions.\n",
            "  BiopythonWarning,\n"
          ]
        },
        {
          "output_type": "execute_result",
          "data": {
            "text/plain": [
              "71"
            ]
          },
          "metadata": {},
          "execution_count": 351
        }
      ]
    },
    {
      "cell_type": "markdown",
      "source": [
        "## Добавляем трансляции генов (аминокислотные посл-ти)"
      ],
      "metadata": {
        "id": "-8OBo7nS50gI"
      }
    },
    {
      "cell_type": "code",
      "source": [
        "for record in SeqIO.parse(\"proteins.fasta\", \"fasta\"):\n",
        "  for r in records:\n",
        "    for f in r.features:\n",
        "      if record.id == f.qualifiers['locus_tag'][0]:\n",
        "        f.qualifiers['translation'] = [record.seq]"
      ],
      "metadata": {
        "id": "PpaExz4MvzBM"
      },
      "execution_count": 352,
      "outputs": []
    },
    {
      "cell_type": "code",
      "source": [
        "SeqIO.write(records, \"GENOME.gbk\", \"genbank\")"
      ],
      "metadata": {
        "colab": {
          "base_uri": "https://localhost:8080/"
        },
        "id": "Wbs2qJMX6xep",
        "outputId": "58b50467-1a6c-411b-e352-b0b3c1f4dad9"
      },
      "execution_count": 353,
      "outputs": [
        {
          "output_type": "stream",
          "name": "stderr",
          "text": [
            "/usr/local/lib/python3.7/dist-packages/Bio/SeqIO/InsdcIO.py:730: BiopythonWarning: Increasing length of locus line to allow long name. This will result in fields that are not in usual positions.\n",
            "  BiopythonWarning,\n"
          ]
        },
        {
          "output_type": "execute_result",
          "data": {
            "text/plain": [
              "71"
            ]
          },
          "metadata": {},
          "execution_count": 353
        }
      ]
    },
    {
      "cell_type": "markdown",
      "source": [
        "## Добавляем функции белков (из бактерии MIL-1)"
      ],
      "metadata": {
        "id": "5TNMKF0O-Bep"
      }
    },
    {
      "cell_type": "code",
      "source": [
        "mil = pd.read_csv(\"/content/scaffolds.hits_from_MIL_1.txt\", sep='\\t', header=None)"
      ],
      "metadata": {
        "id": "5l_MHDTH_xB5"
      },
      "execution_count": 354,
      "outputs": []
    },
    {
      "cell_type": "code",
      "source": [
        "items = 0\n",
        "iterator = -1\n",
        "for r in records:\n",
        "    for f in r.features:\n",
        "      iterator+=1\n",
        "      if iterator != mil[0][items]:\n",
        "          f.qualifiers['note'] = '*'\n",
        "          continue\n",
        "      if re.search('_prot_(.+?)_',mil[1][items]) is not None:\n",
        "        f.qualifiers['note'] = re.search('_prot_(.+?)_',mil[1][items]).group(1)\n",
        "      else:\n",
        "        f.qualifiers['note'] = '*'\n",
        "      items+=1\n",
        "      while items<len(mil) and mil[0][items-1]==mil[0][items]:\n",
        "        items+=1"
      ],
      "metadata": {
        "id": "CpL3bKtuCt4G"
      },
      "execution_count": 355,
      "outputs": []
    },
    {
      "cell_type": "code",
      "source": [
        "mil_1_genome = SeqIO.read(\"/content/T_oleivorans_MIL_1.gbk\", \"genbank\")"
      ],
      "metadata": {
        "id": "p5HZ3Qu191lo"
      },
      "execution_count": 356,
      "outputs": []
    },
    {
      "cell_type": "code",
      "source": [
        "for  mil_f in mil_1_genome.features:\n",
        "  if 'protein_id' not in mil_f.qualifiers:\n",
        "    continue\n",
        "    \n",
        "  for record in records:\n",
        "    for f in record.features:\n",
        "      if f.qualifiers['note'] == mil_f.qualifiers['protein_id'][0]:\n",
        "        f.qualifiers['product'] = mil_f.qualifiers['product']"
      ],
      "metadata": {
        "id": "aX4jvKIO-ItS"
      },
      "execution_count": 357,
      "outputs": []
    },
    {
      "cell_type": "code",
      "source": [
        "SeqIO.write(records, \"GENOME.gbk\", \"genbank\")"
      ],
      "metadata": {
        "colab": {
          "base_uri": "https://localhost:8080/"
        },
        "id": "rnaisuVI-Ujx",
        "outputId": "e0f8c447-f550-43ae-cec9-9fe712b8f2a3"
      },
      "execution_count": 358,
      "outputs": [
        {
          "output_type": "stream",
          "name": "stderr",
          "text": [
            "/usr/local/lib/python3.7/dist-packages/Bio/SeqIO/InsdcIO.py:730: BiopythonWarning: Increasing length of locus line to allow long name. This will result in fields that are not in usual positions.\n",
            "  BiopythonWarning,\n"
          ]
        },
        {
          "output_type": "execute_result",
          "data": {
            "text/plain": [
              "71"
            ]
          },
          "metadata": {},
          "execution_count": 358
        }
      ]
    },
    {
      "cell_type": "markdown",
      "source": [
        "## Добавляем функции белков (из БД SwissProt)"
      ],
      "metadata": {
        "id": "OtR7LxAGMsnn"
      }
    },
    {
      "cell_type": "code",
      "source": [
        "!head scaffolds.hits_from_SwissProt.txt"
      ],
      "metadata": {
        "colab": {
          "base_uri": "https://localhost:8080/"
        },
        "id": "Bx7jReHPMvqb",
        "outputId": "66b69d31-6325-41c4-b0ef-bb99b92bba0a"
      },
      "execution_count": 359,
      "outputs": [
        {
          "output_type": "stream",
          "name": "stdout",
          "text": [
            "135\tsp|Q9FN03|UVR8_ARATH\t32.303\t356\t217\t7\t234\t578\t19\t361\t3.76e-44\t169\n",
            "135\tsp|Q9FN03|UVR8_ARATH\t31.319\t364\t237\t7\t395\t745\t15\t378\t9.53e-41\t159\n",
            "135\tsp|Q9FN03|UVR8_ARATH\t31.322\t348\t225\t7\t600\t933\t20\t367\t7.08e-39\t154\n",
            "135\tsp|Q9FN03|UVR8_ARATH\t29.282\t362\t243\t8\t547\t895\t17\t378\t7.30e-34\t139\n",
            "135\tsp|Q9FN03|UVR8_ARATH\t27.473\t364\t250\t7\t495\t844\t15\t378\t4.09e-33\t137\n",
            "135\tsp|Q9FN03|UVR8_ARATH\t32.374\t139\t89\t3\t794\t927\t15\t153\t1.22e-11\t71.6\n",
            "135\tsp|Q15751|HERC1_HUMAN\t31.362\t389\t233\t10\t284\t656\t359\t729\t8.37e-40\t164\n",
            "135\tsp|Q15751|HERC1_HUMAN\t29.907\t428\t266\t11\t202\t611\t323\t734\t3.47e-35\t149\n",
            "135\tsp|Q15751|HERC1_HUMAN\t29.427\t384\t246\t10\t239\t611\t3990\t4359\t2.69e-31\t137\n",
            "135\tsp|Q15751|HERC1_HUMAN\t27.603\t413\t264\t10\t550\t933\t346\t752\t1.86e-30\t134\n"
          ]
        }
      ]
    },
    {
      "cell_type": "markdown",
      "source": [
        "product = 'Similar to SwissProt protein Y1178_METJA (E-value = 2.95e-28)'"
      ],
      "metadata": {
        "id": "naX-IchmOlID"
      }
    },
    {
      "cell_type": "code",
      "source": [
        "swiss =  pd.read_csv(\"/content/scaffolds.hits_from_SwissProt.txt\", sep='\\t', header=None)\n",
        "swiss"
      ],
      "metadata": {
        "colab": {
          "base_uri": "https://localhost:8080/",
          "height": 423
        },
        "id": "pGmNQQIYM0sM",
        "outputId": "499301d2-a1b0-42c7-b2b9-a61756a6f6f8"
      },
      "execution_count": 360,
      "outputs": [
        {
          "output_type": "execute_result",
          "data": {
            "text/html": [
              "<div>\n",
              "<style scoped>\n",
              "    .dataframe tbody tr th:only-of-type {\n",
              "        vertical-align: middle;\n",
              "    }\n",
              "\n",
              "    .dataframe tbody tr th {\n",
              "        vertical-align: top;\n",
              "    }\n",
              "\n",
              "    .dataframe thead th {\n",
              "        text-align: right;\n",
              "    }\n",
              "</style>\n",
              "<table border=\"1\" class=\"dataframe\">\n",
              "  <thead>\n",
              "    <tr style=\"text-align: right;\">\n",
              "      <th></th>\n",
              "      <th>0</th>\n",
              "      <th>1</th>\n",
              "      <th>2</th>\n",
              "      <th>3</th>\n",
              "      <th>4</th>\n",
              "      <th>5</th>\n",
              "      <th>6</th>\n",
              "      <th>7</th>\n",
              "      <th>8</th>\n",
              "      <th>9</th>\n",
              "      <th>10</th>\n",
              "      <th>11</th>\n",
              "    </tr>\n",
              "  </thead>\n",
              "  <tbody>\n",
              "    <tr>\n",
              "      <th>0</th>\n",
              "      <td>135</td>\n",
              "      <td>sp|Q9FN03|UVR8_ARATH</td>\n",
              "      <td>32.303</td>\n",
              "      <td>356</td>\n",
              "      <td>217</td>\n",
              "      <td>7</td>\n",
              "      <td>234</td>\n",
              "      <td>578</td>\n",
              "      <td>19</td>\n",
              "      <td>361</td>\n",
              "      <td>3.760000e-44</td>\n",
              "      <td>169.0</td>\n",
              "    </tr>\n",
              "    <tr>\n",
              "      <th>1</th>\n",
              "      <td>135</td>\n",
              "      <td>sp|Q9FN03|UVR8_ARATH</td>\n",
              "      <td>31.319</td>\n",
              "      <td>364</td>\n",
              "      <td>237</td>\n",
              "      <td>7</td>\n",
              "      <td>395</td>\n",
              "      <td>745</td>\n",
              "      <td>15</td>\n",
              "      <td>378</td>\n",
              "      <td>9.530000e-41</td>\n",
              "      <td>159.0</td>\n",
              "    </tr>\n",
              "    <tr>\n",
              "      <th>2</th>\n",
              "      <td>135</td>\n",
              "      <td>sp|Q9FN03|UVR8_ARATH</td>\n",
              "      <td>31.322</td>\n",
              "      <td>348</td>\n",
              "      <td>225</td>\n",
              "      <td>7</td>\n",
              "      <td>600</td>\n",
              "      <td>933</td>\n",
              "      <td>20</td>\n",
              "      <td>367</td>\n",
              "      <td>7.080000e-39</td>\n",
              "      <td>154.0</td>\n",
              "    </tr>\n",
              "    <tr>\n",
              "      <th>3</th>\n",
              "      <td>135</td>\n",
              "      <td>sp|Q9FN03|UVR8_ARATH</td>\n",
              "      <td>29.282</td>\n",
              "      <td>362</td>\n",
              "      <td>243</td>\n",
              "      <td>8</td>\n",
              "      <td>547</td>\n",
              "      <td>895</td>\n",
              "      <td>17</td>\n",
              "      <td>378</td>\n",
              "      <td>7.300000e-34</td>\n",
              "      <td>139.0</td>\n",
              "    </tr>\n",
              "    <tr>\n",
              "      <th>4</th>\n",
              "      <td>135</td>\n",
              "      <td>sp|Q9FN03|UVR8_ARATH</td>\n",
              "      <td>27.473</td>\n",
              "      <td>364</td>\n",
              "      <td>250</td>\n",
              "      <td>7</td>\n",
              "      <td>495</td>\n",
              "      <td>844</td>\n",
              "      <td>15</td>\n",
              "      <td>378</td>\n",
              "      <td>4.090000e-33</td>\n",
              "      <td>137.0</td>\n",
              "    </tr>\n",
              "    <tr>\n",
              "      <th>...</th>\n",
              "      <td>...</td>\n",
              "      <td>...</td>\n",
              "      <td>...</td>\n",
              "      <td>...</td>\n",
              "      <td>...</td>\n",
              "      <td>...</td>\n",
              "      <td>...</td>\n",
              "      <td>...</td>\n",
              "      <td>...</td>\n",
              "      <td>...</td>\n",
              "      <td>...</td>\n",
              "      <td>...</td>\n",
              "    </tr>\n",
              "    <tr>\n",
              "      <th>915</th>\n",
              "      <td>3366</td>\n",
              "      <td>sp|Q58615|Y1218_METJA</td>\n",
              "      <td>26.860</td>\n",
              "      <td>242</td>\n",
              "      <td>141</td>\n",
              "      <td>9</td>\n",
              "      <td>41</td>\n",
              "      <td>264</td>\n",
              "      <td>70</td>\n",
              "      <td>293</td>\n",
              "      <td>4.160000e-17</td>\n",
              "      <td>87.0</td>\n",
              "    </tr>\n",
              "    <tr>\n",
              "      <th>916</th>\n",
              "      <td>3369</td>\n",
              "      <td>sp|P08956|T1RK_ECOLI</td>\n",
              "      <td>27.848</td>\n",
              "      <td>632</td>\n",
              "      <td>328</td>\n",
              "      <td>25</td>\n",
              "      <td>12</td>\n",
              "      <td>548</td>\n",
              "      <td>248</td>\n",
              "      <td>846</td>\n",
              "      <td>4.080000e-42</td>\n",
              "      <td>171.0</td>\n",
              "    </tr>\n",
              "    <tr>\n",
              "      <th>917</th>\n",
              "      <td>3369</td>\n",
              "      <td>sp|Q07736|T1RA_ECOLX</td>\n",
              "      <td>27.437</td>\n",
              "      <td>554</td>\n",
              "      <td>344</td>\n",
              "      <td>21</td>\n",
              "      <td>1</td>\n",
              "      <td>527</td>\n",
              "      <td>6</td>\n",
              "      <td>528</td>\n",
              "      <td>8.390000e-41</td>\n",
              "      <td>165.0</td>\n",
              "    </tr>\n",
              "    <tr>\n",
              "      <th>918</th>\n",
              "      <td>3369</td>\n",
              "      <td>sp|Q47281|T1RE_ECOLX</td>\n",
              "      <td>27.592</td>\n",
              "      <td>569</td>\n",
              "      <td>344</td>\n",
              "      <td>25</td>\n",
              "      <td>4</td>\n",
              "      <td>545</td>\n",
              "      <td>10</td>\n",
              "      <td>537</td>\n",
              "      <td>1.440000e-36</td>\n",
              "      <td>152.0</td>\n",
              "    </tr>\n",
              "    <tr>\n",
              "      <th>919</th>\n",
              "      <td>3447</td>\n",
              "      <td>sp|Q81ST7|BSHA_BACAN</td>\n",
              "      <td>25.114</td>\n",
              "      <td>219</td>\n",
              "      <td>151</td>\n",
              "      <td>3</td>\n",
              "      <td>130</td>\n",
              "      <td>335</td>\n",
              "      <td>147</td>\n",
              "      <td>365</td>\n",
              "      <td>1.450000e-12</td>\n",
              "      <td>71.2</td>\n",
              "    </tr>\n",
              "  </tbody>\n",
              "</table>\n",
              "<p>920 rows × 12 columns</p>\n",
              "</div>"
            ],
            "text/plain": [
              "       0                      1       2    3   ...   8    9             10     11\n",
              "0     135   sp|Q9FN03|UVR8_ARATH  32.303  356  ...   19  361  3.760000e-44  169.0\n",
              "1     135   sp|Q9FN03|UVR8_ARATH  31.319  364  ...   15  378  9.530000e-41  159.0\n",
              "2     135   sp|Q9FN03|UVR8_ARATH  31.322  348  ...   20  367  7.080000e-39  154.0\n",
              "3     135   sp|Q9FN03|UVR8_ARATH  29.282  362  ...   17  378  7.300000e-34  139.0\n",
              "4     135   sp|Q9FN03|UVR8_ARATH  27.473  364  ...   15  378  4.090000e-33  137.0\n",
              "..    ...                    ...     ...  ...  ...  ...  ...           ...    ...\n",
              "915  3366  sp|Q58615|Y1218_METJA  26.860  242  ...   70  293  4.160000e-17   87.0\n",
              "916  3369   sp|P08956|T1RK_ECOLI  27.848  632  ...  248  846  4.080000e-42  171.0\n",
              "917  3369   sp|Q07736|T1RA_ECOLX  27.437  554  ...    6  528  8.390000e-41  165.0\n",
              "918  3369   sp|Q47281|T1RE_ECOLX  27.592  569  ...   10  537  1.440000e-36  152.0\n",
              "919  3447   sp|Q81ST7|BSHA_BACAN  25.114  219  ...  147  365  1.450000e-12   71.2\n",
              "\n",
              "[920 rows x 12 columns]"
            ]
          },
          "metadata": {},
          "execution_count": 360
        }
      ]
    },
    {
      "cell_type": "code",
      "source": [
        "items = 0\n",
        "iterator = -1\n",
        "for r in records:\n",
        "  if items >= len(swiss):\n",
        "    break\n",
        "  for f in r.features:\n",
        "    iterator+=1 \n",
        "    if iterator != swiss[0][items]:\n",
        "        continue\n",
        "      # f.qualifiers['note_Swiss'] = re.split('\\|',swiss[1][items])[1]\n",
        "    f.qualifiers['product_SwissProt'] = 'Similar to SwissProt protein ' + str(re.split('\\|',swiss[1][items])[1]) + ' (E_value= ' + str(swiss[10][items]) + '),\\n'\n",
        "    items+=1\n",
        "    while items<len(swiss) and swiss[0][items-1]==swiss[0][items]:\n",
        "      f.qualifiers['product_SwissProt'] += 'Similar to SwissProt protein ' + str(re.split('\\|',swiss[1][items])[1]) + ' (E_value= ' + str(swiss[10][items]) + '),\\n'\n",
        "      items+=1\n",
        "    if items >= len(swiss):\n",
        "      break"
      ],
      "metadata": {
        "id": "URfVFkwqPoAw"
      },
      "execution_count": 361,
      "outputs": []
    },
    {
      "cell_type": "code",
      "source": [
        "SeqIO.write(records, \"GENOME.gbk\", \"genbank\")"
      ],
      "metadata": {
        "colab": {
          "base_uri": "https://localhost:8080/"
        },
        "id": "wXVhY_gPNVk0",
        "outputId": "98a0fa34-fbc1-43bc-82ba-e24fc1da1868"
      },
      "execution_count": 362,
      "outputs": [
        {
          "output_type": "stream",
          "name": "stderr",
          "text": [
            "/usr/local/lib/python3.7/dist-packages/Bio/SeqIO/InsdcIO.py:730: BiopythonWarning: Increasing length of locus line to allow long name. This will result in fields that are not in usual positions.\n",
            "  BiopythonWarning,\n"
          ]
        },
        {
          "output_type": "execute_result",
          "data": {
            "text/plain": [
              "71"
            ]
          },
          "metadata": {},
          "execution_count": 362
        }
      ]
    }
  ]
}